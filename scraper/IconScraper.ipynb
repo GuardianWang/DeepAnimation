{
 "cells": [
  {
   "cell_type": "code",
   "execution_count": 45,
   "id": "5e4060cd-667d-4dc4-a35b-43695cf99aa7",
   "metadata": {},
   "outputs": [],
   "source": [
    "from bs4 import BeautifulSoup\n",
    "from tqdm.notebook import tqdm\n",
    "import pandas as pd\n",
    "\n",
    "import urllib.request\n",
    "import requests\n",
    "import time\n",
    "import http\n",
    "import re\n",
    "import shutil\n",
    "import os\n",
    "from random import choice"
   ]
  },
  {
   "cell_type": "code",
   "execution_count": 11,
   "id": "126dc073-db90-4472-a360-8a6519543796",
   "metadata": {},
   "outputs": [],
   "source": [
    "def get_soup(url):\n",
    "    request = requests.get(url, timeout=10)\n",
    "    request.encoding = 'utf-8'\n",
    "    html_content = request.content\n",
    "\n",
    "    soup = BeautifulSoup(html_content, 'lxml')\n",
    "\n",
    "    return soup"
   ]
  },
  {
   "cell_type": "code",
   "execution_count": 38,
   "id": "538cde5f-da4c-412a-a55e-832ddbb6b45f",
   "metadata": {},
   "outputs": [],
   "source": [
    "base_url = \"https://icons8.com/\""
   ]
  },
  {
   "cell_type": "code",
   "execution_count": 126,
   "id": "cf7c38cc-8ba4-4867-a795-880387fa07c7",
   "metadata": {},
   "outputs": [],
   "source": [
    "# parser\n",
    "def parse_li(item, gif_url_id, free = False, icon_name_class = 'icon__name'):\n",
    "    \"\"\"\n",
    "    A <li> sample:\n",
    "    \n",
    "    <li class=\"icons-item\" data-v-44caebde=\"\">\n",
    "     <div class=\"icon\" data-v-44caebde=\"\" data-v-908c92b2=\"\">\n",
    "      <div class=\"icon__body\" data-v-908c92b2=\"\">\n",
    "       <div class=\"icon-container\" data-v-7e4fff6b=\"\" data-v-908c92b2=\"\">\n",
    "        <img alt=\"Bell Animated Icon\" class=\"icon\" data-v-7e4fff6b=\"\" src=\"/vue-static/landings/animated-icons-new/icons/color/bell/bell.svg\"/>\n",
    "        <span class=\"icon-over\" data-v-7e4fff6b=\"\">\n",
    "        </span>\n",
    "       </div>\n",
    "       <div class=\"free\" data-v-908c92b2=\"\">\n",
    "        Free\n",
    "       </div>\n",
    "      </div>\n",
    "      <p class=\"icon__name\" data-v-908c92b2=\"\">\n",
    "       Bell\n",
    "      </p>\n",
    "     </div>\n",
    "    </li>\n",
    "    \"\"\"\n",
    "    \n",
    "    # free\n",
    "    is_free = item.find(\"div\", attrs={'class': 'free'}) is not None\n",
    "    # icon name\n",
    "    icon_name = item.find(\"p\", attrs={'class': icon_name_class}).text\n",
    "    # svg url\n",
    "    img_url = base_url + item.find(\"img\", attrs={'class': 'icon'}).get(\"src\")\n",
    "    # gif url\n",
    "    ext = os.path.splitext(img_url)[1]\n",
    "    gif_url = img_url.replace(ext, f\"_{gif_url_id}.gif\")\n",
    "    \n",
    "    data = {\n",
    "        \"is_free\": \"free\" if free or is_free else \"non-free\",\n",
    "        \"name\": icon_name,\n",
    "        \"image_url\": img_url,\n",
    "        \"gif_url\": gif_url,\n",
    "    }\n",
    "    \n",
    "    return data"
   ]
  },
  {
   "cell_type": "code",
   "execution_count": 96,
   "id": "00ce50a5-9ba0-4f73-9524-28d028b7832b",
   "metadata": {},
   "outputs": [],
   "source": [
    "# gif url pattern\n",
    "svg2gif = {\n",
    "    'color': 192,\n",
    "    'ios-glyph': 120,\n",
    "    'windows-10': 128,\n",
    "    'material-filled': 96,\n",
    "    'office-style': 160,\n",
    "}\n"
   ]
  },
  {
   "cell_type": "code",
   "execution_count": 97,
   "id": "6cd6d28b-155e-4193-a983-2eaaf0f58993",
   "metadata": {},
   "outputs": [],
   "source": [
    "# csv\n",
    "file_name  = \"icon_data.csv\"\n",
    "if (not os.path.exists(file_name)):\n",
    "    icon_df = pd.DataFrame(columns=[\"id\", \"name\", \"group\", \"id_in_group\", \"is_free\", \"image_url\", \"gif_url\"])\n",
    "    icon_df.to_csv(file_name, index=None)"
   ]
  },
  {
   "cell_type": "code",
   "execution_count": 98,
   "id": "dbcea08c-934c-4e0a-8ded-d7178544bb76",
   "metadata": {},
   "outputs": [
    {
     "data": {
      "application/vnd.jupyter.widget-view+json": {
       "model_id": "cf7b4cf8fca54d01a1401788b05afe08",
       "version_major": 2,
       "version_minor": 0
      },
      "text/plain": [
       "0it [00:00, ?it/s]"
      ]
     },
     "metadata": {},
     "output_type": "display_data"
    },
    {
     "data": {
      "application/vnd.jupyter.widget-view+json": {
       "model_id": "043106f8a85c4e0da8cf8b5c93837e21",
       "version_major": 2,
       "version_minor": 0
      },
      "text/plain": [
       "0it [00:00, ?it/s]"
      ]
     },
     "metadata": {},
     "output_type": "display_data"
    },
    {
     "data": {
      "application/vnd.jupyter.widget-view+json": {
       "model_id": "fb5e1a609e924084a9186637ed9fa598",
       "version_major": 2,
       "version_minor": 0
      },
      "text/plain": [
       "0it [00:00, ?it/s]"
      ]
     },
     "metadata": {},
     "output_type": "display_data"
    },
    {
     "data": {
      "application/vnd.jupyter.widget-view+json": {
       "model_id": "c21b95b282474a05b928e9dc654af78d",
       "version_major": 2,
       "version_minor": 0
      },
      "text/plain": [
       "0it [00:00, ?it/s]"
      ]
     },
     "metadata": {},
     "output_type": "display_data"
    },
    {
     "data": {
      "application/vnd.jupyter.widget-view+json": {
       "model_id": "68a233accb344bd5a453f92f8561ec5c",
       "version_major": 2,
       "version_minor": 0
      },
      "text/plain": [
       "0it [00:00, ?it/s]"
      ]
     },
     "metadata": {},
     "output_type": "display_data"
    },
    {
     "name": "stdout",
     "output_type": "stream",
     "text": [
      "932 rows before dropping duplicates\n",
      "932 rows after dropping duplicates\n"
     ]
    }
   ],
   "source": [
    "# scrape url\n",
    "icon_df = pd.read_csv(file_name)\n",
    "\n",
    "icon_id = -1\n",
    "icon_groups = list(svg2gif.keys())\n",
    "for icon_group in icon_groups:\n",
    "    url = f\"https://icons8.com/animated-icons/{icon_group}\"\n",
    "    soup = get_soup(url)\n",
    "    lis = soup.find_all('li', attrs={'class': 'icons-item'})\n",
    "    \n",
    "    for id_in_group, li in tqdm(enumerate(lis)):\n",
    "        icon_id += 1\n",
    "        if (not icon_df.empty) and (not icon_df[(icon_df[\"group\"] == icon_group) & (icon_df[\"id_in_group\"] == id_in_group)].empty):\n",
    "            continue\n",
    "        try:\n",
    "            icon_data = parse_li(li, svg2gif[icon_group])\n",
    "            icon_data[\"group\"] = icon_group\n",
    "            icon_data[\"id_in_group\"] = id_in_group\n",
    "            icon_data[\"id\"] = icon_id\n",
    "            icon_df = icon_df.append(icon_data, ignore_index=True)\n",
    "        except BaseException as err:\n",
    "            print(f\"Unexpected {err}, {type(err)}\")\n",
    "\n",
    "        if (icon_id % 20 == 0):\n",
    "            icon_df.to_csv(file_name, index=None)\n",
    "    icon_df.to_csv(file_name, index=None)\n",
    "\n",
    "# drop duplicates\n",
    "print(f\"{icon_df.shape[0]} rows before dropping duplicates\")\n",
    "# icon_df = icon_df.drop_duplicates(subset=['image_url'])\n",
    "# print(f\"{icon_df.shape[0]} rows after dropping duplicates\")\n",
    "icon_df.to_csv(file_name, index=None)\n"
   ]
  },
  {
   "cell_type": "code",
   "execution_count": 116,
   "id": "5f602bdf-0cb6-4889-9369-f498169fd50f",
   "metadata": {},
   "outputs": [],
   "source": [
    "# scrape other free icons\n",
    "url = \"https://icons8.com/free-animated-icons\"\n",
    "soup = get_soup(url)"
   ]
  },
  {
   "cell_type": "code",
   "execution_count": 139,
   "id": "9ac544be-13ad-4906-901a-56427db676d2",
   "metadata": {
    "tags": []
   },
   "outputs": [
    {
     "data": {
      "application/vnd.jupyter.widget-view+json": {
       "model_id": "b174a3dcd8df4acf8953de6d5972e611",
       "version_major": 2,
       "version_minor": 0
      },
      "text/plain": [
       "0it [00:00, ?it/s]"
      ]
     },
     "metadata": {},
     "output_type": "display_data"
    },
    {
     "data": {
      "application/vnd.jupyter.widget-view+json": {
       "model_id": "5893ae66dbcf481b8a75175b7ee1ead9",
       "version_major": 2,
       "version_minor": 0
      },
      "text/plain": [
       "0it [00:00, ?it/s]"
      ]
     },
     "metadata": {},
     "output_type": "display_data"
    },
    {
     "data": {
      "application/vnd.jupyter.widget-view+json": {
       "model_id": "243c8ad36eb24c24b55f4ff86b87c281",
       "version_major": 2,
       "version_minor": 0
      },
      "text/plain": [
       "0it [00:00, ?it/s]"
      ]
     },
     "metadata": {},
     "output_type": "display_data"
    },
    {
     "data": {
      "application/vnd.jupyter.widget-view+json": {
       "model_id": "64807083d3894fca88051e9d12fd2f65",
       "version_major": 2,
       "version_minor": 0
      },
      "text/plain": [
       "0it [00:00, ?it/s]"
      ]
     },
     "metadata": {},
     "output_type": "display_data"
    },
    {
     "data": {
      "application/vnd.jupyter.widget-view+json": {
       "model_id": "3435c2aaea204c4286e0e7582feb7bd8",
       "version_major": 2,
       "version_minor": 0
      },
      "text/plain": [
       "0it [00:00, ?it/s]"
      ]
     },
     "metadata": {},
     "output_type": "display_data"
    },
    {
     "data": {
      "application/vnd.jupyter.widget-view+json": {
       "model_id": "b78f6ba4e00a4272b78b56502914f010",
       "version_major": 2,
       "version_minor": 0
      },
      "text/plain": [
       "0it [00:00, ?it/s]"
      ]
     },
     "metadata": {},
     "output_type": "display_data"
    },
    {
     "data": {
      "application/vnd.jupyter.widget-view+json": {
       "model_id": "aa8c2760ee334df3a07bf958d0f303bc",
       "version_major": 2,
       "version_minor": 0
      },
      "text/plain": [
       "0it [00:00, ?it/s]"
      ]
     },
     "metadata": {},
     "output_type": "display_data"
    },
    {
     "data": {
      "application/vnd.jupyter.widget-view+json": {
       "model_id": "2655f7d9aeb643de93e16e04f4660575",
       "version_major": 2,
       "version_minor": 0
      },
      "text/plain": [
       "0it [00:00, ?it/s]"
      ]
     },
     "metadata": {},
     "output_type": "display_data"
    },
    {
     "data": {
      "application/vnd.jupyter.widget-view+json": {
       "model_id": "b9194c70441d40ebac5b53bb8b9468c5",
       "version_major": 2,
       "version_minor": 0
      },
      "text/plain": [
       "0it [00:00, ?it/s]"
      ]
     },
     "metadata": {},
     "output_type": "display_data"
    },
    {
     "data": {
      "application/vnd.jupyter.widget-view+json": {
       "model_id": "657ffb78ba984caeb047b90c814d8016",
       "version_major": 2,
       "version_minor": 0
      },
      "text/plain": [
       "0it [00:00, ?it/s]"
      ]
     },
     "metadata": {},
     "output_type": "display_data"
    },
    {
     "data": {
      "application/vnd.jupyter.widget-view+json": {
       "model_id": "34352daa92094c5aa103a4900df6a0c4",
       "version_major": 2,
       "version_minor": 0
      },
      "text/plain": [
       "0it [00:00, ?it/s]"
      ]
     },
     "metadata": {},
     "output_type": "display_data"
    },
    {
     "name": "stdout",
     "output_type": "stream",
     "text": [
      "1587 rows before dropping duplicates\n"
     ]
    }
   ],
   "source": [
    "icon_df = pd.read_csv(file_name)\n",
    "\n",
    "icon_groups = soup.find_all('div', attrs={'class': 'icons-group'})\n",
    "icon_id = icon_df.shape[0] - 1\n",
    "for icon_group in icon_groups:\n",
    "    icon_group_name = icon_group.find('h2', {'class': 'group-title'}).text\n",
    "    lis = icon_group.find_all('li', attrs={'class': 'icon'})\n",
    "    \n",
    "    for id_in_group, li in tqdm(enumerate(lis)):\n",
    "        if (not icon_df.empty) and (not icon_df[(icon_df[\"group\"] == icon_group_name) & (icon_df[\"id_in_group\"] == id_in_group)].empty):\n",
    "            \n",
    "            continue\n",
    "        icon_id += 1\n",
    "        try:\n",
    "            icon_data = parse_li(li, 200, free=True, icon_name_class='icon-name')\n",
    "            icon_data[\"group\"] = icon_group_name\n",
    "            icon_data[\"id_in_group\"] = id_in_group\n",
    "            icon_data[\"id\"] = icon_id\n",
    "            icon_df = icon_df.append(icon_data, ignore_index=True)\n",
    "        except BaseException as err:\n",
    "            print(f\"Unexpected {err}, {type(err)}\")\n",
    "\n",
    "        if (icon_id % 20 == 0):\n",
    "            icon_df.to_csv(file_name, index=None)\n",
    "    icon_df.to_csv(file_name, index=None)\n",
    "    \n",
    "# drop duplicates\n",
    "print(f\"{icon_df.shape[0]} rows before dropping duplicates\")\n",
    "# print(icon_df[icon_df.duplicated(subset=['image_url', 'gif_url'])])\n",
    "# icon_df = icon_df.drop_duplicates(subset=['image_url', 'gif_url'])\n",
    "# print(f\"{icon_df.shape[0]} rows after dropping duplicates\")\n",
    "icon_df.to_csv(file_name, index=None)"
   ]
  },
  {
   "cell_type": "code",
   "execution_count": null,
   "id": "516d4dd4-7fe8-453e-aa7d-49045d6edeec",
   "metadata": {},
   "outputs": [],
   "source": []
  }
 ],
 "metadata": {
  "kernelspec": {
   "display_name": "conda-base",
   "language": "python",
   "name": "conda-base"
  },
  "language_info": {
   "codemirror_mode": {
    "name": "ipython",
    "version": 3
   },
   "file_extension": ".py",
   "mimetype": "text/x-python",
   "name": "python",
   "nbconvert_exporter": "python",
   "pygments_lexer": "ipython3",
   "version": "3.9.5"
  }
 },
 "nbformat": 4,
 "nbformat_minor": 5
}
