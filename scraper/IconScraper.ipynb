{
 "cells": [
  {
   "cell_type": "code",
   "execution_count": 1,
   "id": "5e4060cd-667d-4dc4-a35b-43695cf99aa7",
   "metadata": {},
   "outputs": [],
   "source": [
    "from bs4 import BeautifulSoup\n",
    "from tqdm.notebook import tqdm\n",
    "import pandas as pd\n",
    "\n",
    "import urllib.request\n",
    "import requests\n",
    "import time\n",
    "import http\n",
    "import re\n",
    "import shutil\n",
    "import os\n",
    "from random import choice"
   ]
  },
  {
   "cell_type": "markdown",
   "id": "a42c45c8-e730-406a-b806-346eeb57835a",
   "metadata": {},
   "source": [
    "## Link"
   ]
  },
  {
   "cell_type": "code",
   "execution_count": 11,
   "id": "126dc073-db90-4472-a360-8a6519543796",
   "metadata": {},
   "outputs": [],
   "source": [
    "def get_soup(url):\n",
    "    request = requests.get(url, timeout=10)\n",
    "    request.encoding = 'utf-8'\n",
    "    html_content = request.content\n",
    "\n",
    "    soup = BeautifulSoup(html_content, 'lxml')\n",
    "\n",
    "    return soup"
   ]
  },
  {
   "cell_type": "code",
   "execution_count": 38,
   "id": "538cde5f-da4c-412a-a55e-832ddbb6b45f",
   "metadata": {},
   "outputs": [],
   "source": [
    "base_url = \"https://icons8.com/\""
   ]
  },
  {
   "cell_type": "code",
   "execution_count": 126,
   "id": "cf7c38cc-8ba4-4867-a795-880387fa07c7",
   "metadata": {},
   "outputs": [],
   "source": [
    "# parser\n",
    "def parse_li(item, gif_url_id, free = False, icon_name_class = 'icon__name'):\n",
    "    \"\"\"\n",
    "    A <li> sample:\n",
    "    \n",
    "    <li class=\"icons-item\" data-v-44caebde=\"\">\n",
    "     <div class=\"icon\" data-v-44caebde=\"\" data-v-908c92b2=\"\">\n",
    "      <div class=\"icon__body\" data-v-908c92b2=\"\">\n",
    "       <div class=\"icon-container\" data-v-7e4fff6b=\"\" data-v-908c92b2=\"\">\n",
    "        <img alt=\"Bell Animated Icon\" class=\"icon\" data-v-7e4fff6b=\"\" src=\"/vue-static/landings/animated-icons-new/icons/color/bell/bell.svg\"/>\n",
    "        <span class=\"icon-over\" data-v-7e4fff6b=\"\">\n",
    "        </span>\n",
    "       </div>\n",
    "       <div class=\"free\" data-v-908c92b2=\"\">\n",
    "        Free\n",
    "       </div>\n",
    "      </div>\n",
    "      <p class=\"icon__name\" data-v-908c92b2=\"\">\n",
    "       Bell\n",
    "      </p>\n",
    "     </div>\n",
    "    </li>\n",
    "    \"\"\"\n",
    "    \n",
    "    # free\n",
    "    is_free = item.find(\"div\", attrs={'class': 'free'}) is not None\n",
    "    # icon name\n",
    "    icon_name = item.find(\"p\", attrs={'class': icon_name_class}).text\n",
    "    # svg url\n",
    "    img_url = base_url + item.find(\"img\", attrs={'class': 'icon'}).get(\"src\")\n",
    "    # gif url\n",
    "    ext = os.path.splitext(img_url)[1]\n",
    "    gif_url = img_url.replace(ext, f\"_{gif_url_id}.gif\")\n",
    "    \n",
    "    data = {\n",
    "        \"is_free\": \"free\" if free or is_free else \"non-free\",\n",
    "        \"name\": icon_name,\n",
    "        \"image_url\": img_url,\n",
    "        \"gif_url\": gif_url,\n",
    "    }\n",
    "    \n",
    "    return data"
   ]
  },
  {
   "cell_type": "code",
   "execution_count": 96,
   "id": "00ce50a5-9ba0-4f73-9524-28d028b7832b",
   "metadata": {},
   "outputs": [],
   "source": [
    "# gif url pattern\n",
    "svg2gif = {\n",
    "    'color': 192,\n",
    "    'ios-glyph': 120,\n",
    "    'windows-10': 128,\n",
    "    'material-filled': 96,\n",
    "    'office-style': 160,\n",
    "}\n"
   ]
  },
  {
   "cell_type": "code",
   "execution_count": 97,
   "id": "6cd6d28b-155e-4193-a983-2eaaf0f58993",
   "metadata": {},
   "outputs": [],
   "source": [
    "# csv\n",
    "file_name  = \"icon_data.csv\"\n",
    "if (not os.path.exists(file_name)):\n",
    "    icon_df = pd.DataFrame(columns=[\"id\", \"name\", \"group\", \"id_in_group\", \"is_free\", \"image_url\", \"gif_url\"])\n",
    "    icon_df.to_csv(file_name, index=None)"
   ]
  },
  {
   "cell_type": "code",
   "execution_count": 98,
   "id": "dbcea08c-934c-4e0a-8ded-d7178544bb76",
   "metadata": {},
   "outputs": [
    {
     "data": {
      "application/vnd.jupyter.widget-view+json": {
       "model_id": "cf7b4cf8fca54d01a1401788b05afe08",
       "version_major": 2,
       "version_minor": 0
      },
      "text/plain": [
       "0it [00:00, ?it/s]"
      ]
     },
     "metadata": {},
     "output_type": "display_data"
    },
    {
     "data": {
      "application/vnd.jupyter.widget-view+json": {
       "model_id": "043106f8a85c4e0da8cf8b5c93837e21",
       "version_major": 2,
       "version_minor": 0
      },
      "text/plain": [
       "0it [00:00, ?it/s]"
      ]
     },
     "metadata": {},
     "output_type": "display_data"
    },
    {
     "data": {
      "application/vnd.jupyter.widget-view+json": {
       "model_id": "fb5e1a609e924084a9186637ed9fa598",
       "version_major": 2,
       "version_minor": 0
      },
      "text/plain": [
       "0it [00:00, ?it/s]"
      ]
     },
     "metadata": {},
     "output_type": "display_data"
    },
    {
     "data": {
      "application/vnd.jupyter.widget-view+json": {
       "model_id": "c21b95b282474a05b928e9dc654af78d",
       "version_major": 2,
       "version_minor": 0
      },
      "text/plain": [
       "0it [00:00, ?it/s]"
      ]
     },
     "metadata": {},
     "output_type": "display_data"
    },
    {
     "data": {
      "application/vnd.jupyter.widget-view+json": {
       "model_id": "68a233accb344bd5a453f92f8561ec5c",
       "version_major": 2,
       "version_minor": 0
      },
      "text/plain": [
       "0it [00:00, ?it/s]"
      ]
     },
     "metadata": {},
     "output_type": "display_data"
    },
    {
     "name": "stdout",
     "output_type": "stream",
     "text": [
      "932 rows before dropping duplicates\n",
      "932 rows after dropping duplicates\n"
     ]
    }
   ],
   "source": [
    "# scrape url\n",
    "icon_df = pd.read_csv(file_name)\n",
    "\n",
    "icon_id = -1\n",
    "icon_groups = list(svg2gif.keys())\n",
    "for icon_group in icon_groups:\n",
    "    url = f\"https://icons8.com/animated-icons/{icon_group}\"\n",
    "    soup = get_soup(url)\n",
    "    lis = soup.find_all('li', attrs={'class': 'icons-item'})\n",
    "    \n",
    "    for id_in_group, li in tqdm(enumerate(lis)):\n",
    "        icon_id += 1\n",
    "        if (not icon_df.empty) and (not icon_df[(icon_df[\"group\"] == icon_group) & (icon_df[\"id_in_group\"] == id_in_group)].empty):\n",
    "            continue\n",
    "        try:\n",
    "            icon_data = parse_li(li, svg2gif[icon_group])\n",
    "            icon_data[\"group\"] = icon_group\n",
    "            icon_data[\"id_in_group\"] = id_in_group\n",
    "            icon_data[\"id\"] = icon_id\n",
    "            icon_df = icon_df.append(icon_data, ignore_index=True)\n",
    "        except BaseException as err:\n",
    "            print(f\"Unexpected {err}, {type(err)}\")\n",
    "\n",
    "        if (icon_id % 20 == 0):\n",
    "            icon_df.to_csv(file_name, index=None)\n",
    "    icon_df.to_csv(file_name, index=None)\n",
    "\n",
    "# drop duplicates\n",
    "print(f\"{icon_df.shape[0]} rows before dropping duplicates\")\n",
    "# icon_df = icon_df.drop_duplicates(subset=['image_url'])\n",
    "# print(f\"{icon_df.shape[0]} rows after dropping duplicates\")\n",
    "icon_df.to_csv(file_name, index=None)\n"
   ]
  },
  {
   "cell_type": "code",
   "execution_count": 116,
   "id": "5f602bdf-0cb6-4889-9369-f498169fd50f",
   "metadata": {},
   "outputs": [],
   "source": [
    "# scrape other free icons\n",
    "url = \"https://icons8.com/free-animated-icons\"\n",
    "soup = get_soup(url)"
   ]
  },
  {
   "cell_type": "code",
   "execution_count": 139,
   "id": "9ac544be-13ad-4906-901a-56427db676d2",
   "metadata": {
    "tags": []
   },
   "outputs": [
    {
     "data": {
      "application/vnd.jupyter.widget-view+json": {
       "model_id": "b174a3dcd8df4acf8953de6d5972e611",
       "version_major": 2,
       "version_minor": 0
      },
      "text/plain": [
       "0it [00:00, ?it/s]"
      ]
     },
     "metadata": {},
     "output_type": "display_data"
    },
    {
     "data": {
      "application/vnd.jupyter.widget-view+json": {
       "model_id": "5893ae66dbcf481b8a75175b7ee1ead9",
       "version_major": 2,
       "version_minor": 0
      },
      "text/plain": [
       "0it [00:00, ?it/s]"
      ]
     },
     "metadata": {},
     "output_type": "display_data"
    },
    {
     "data": {
      "application/vnd.jupyter.widget-view+json": {
       "model_id": "243c8ad36eb24c24b55f4ff86b87c281",
       "version_major": 2,
       "version_minor": 0
      },
      "text/plain": [
       "0it [00:00, ?it/s]"
      ]
     },
     "metadata": {},
     "output_type": "display_data"
    },
    {
     "data": {
      "application/vnd.jupyter.widget-view+json": {
       "model_id": "64807083d3894fca88051e9d12fd2f65",
       "version_major": 2,
       "version_minor": 0
      },
      "text/plain": [
       "0it [00:00, ?it/s]"
      ]
     },
     "metadata": {},
     "output_type": "display_data"
    },
    {
     "data": {
      "application/vnd.jupyter.widget-view+json": {
       "model_id": "3435c2aaea204c4286e0e7582feb7bd8",
       "version_major": 2,
       "version_minor": 0
      },
      "text/plain": [
       "0it [00:00, ?it/s]"
      ]
     },
     "metadata": {},
     "output_type": "display_data"
    },
    {
     "data": {
      "application/vnd.jupyter.widget-view+json": {
       "model_id": "b78f6ba4e00a4272b78b56502914f010",
       "version_major": 2,
       "version_minor": 0
      },
      "text/plain": [
       "0it [00:00, ?it/s]"
      ]
     },
     "metadata": {},
     "output_type": "display_data"
    },
    {
     "data": {
      "application/vnd.jupyter.widget-view+json": {
       "model_id": "aa8c2760ee334df3a07bf958d0f303bc",
       "version_major": 2,
       "version_minor": 0
      },
      "text/plain": [
       "0it [00:00, ?it/s]"
      ]
     },
     "metadata": {},
     "output_type": "display_data"
    },
    {
     "data": {
      "application/vnd.jupyter.widget-view+json": {
       "model_id": "2655f7d9aeb643de93e16e04f4660575",
       "version_major": 2,
       "version_minor": 0
      },
      "text/plain": [
       "0it [00:00, ?it/s]"
      ]
     },
     "metadata": {},
     "output_type": "display_data"
    },
    {
     "data": {
      "application/vnd.jupyter.widget-view+json": {
       "model_id": "b9194c70441d40ebac5b53bb8b9468c5",
       "version_major": 2,
       "version_minor": 0
      },
      "text/plain": [
       "0it [00:00, ?it/s]"
      ]
     },
     "metadata": {},
     "output_type": "display_data"
    },
    {
     "data": {
      "application/vnd.jupyter.widget-view+json": {
       "model_id": "657ffb78ba984caeb047b90c814d8016",
       "version_major": 2,
       "version_minor": 0
      },
      "text/plain": [
       "0it [00:00, ?it/s]"
      ]
     },
     "metadata": {},
     "output_type": "display_data"
    },
    {
     "data": {
      "application/vnd.jupyter.widget-view+json": {
       "model_id": "34352daa92094c5aa103a4900df6a0c4",
       "version_major": 2,
       "version_minor": 0
      },
      "text/plain": [
       "0it [00:00, ?it/s]"
      ]
     },
     "metadata": {},
     "output_type": "display_data"
    },
    {
     "name": "stdout",
     "output_type": "stream",
     "text": [
      "1587 rows before dropping duplicates\n"
     ]
    }
   ],
   "source": [
    "icon_df = pd.read_csv(file_name)\n",
    "\n",
    "icon_groups = soup.find_all('div', attrs={'class': 'icons-group'})\n",
    "icon_id = icon_df.shape[0] - 1\n",
    "for icon_group in icon_groups:\n",
    "    icon_group_name = icon_group.find('h2', {'class': 'group-title'}).text\n",
    "    lis = icon_group.find_all('li', attrs={'class': 'icon'})\n",
    "    \n",
    "    for id_in_group, li in tqdm(enumerate(lis)):\n",
    "        if (not icon_df.empty) and (not icon_df[(icon_df[\"group\"] == icon_group_name) & (icon_df[\"id_in_group\"] == id_in_group)].empty):\n",
    "            \n",
    "            continue\n",
    "        icon_id += 1\n",
    "        try:\n",
    "            icon_data = parse_li(li, 200, free=True, icon_name_class='icon-name')\n",
    "            icon_data[\"group\"] = icon_group_name\n",
    "            icon_data[\"id_in_group\"] = id_in_group\n",
    "            icon_data[\"id\"] = icon_id\n",
    "            icon_df = icon_df.append(icon_data, ignore_index=True)\n",
    "        except BaseException as err:\n",
    "            print(f\"Unexpected {err}, {type(err)}\")\n",
    "\n",
    "        if (icon_id % 20 == 0):\n",
    "            icon_df.to_csv(file_name, index=None)\n",
    "    icon_df.to_csv(file_name, index=None)\n",
    "    \n",
    "# drop duplicates\n",
    "print(f\"{icon_df.shape[0]} rows before dropping duplicates\")\n",
    "# print(icon_df[icon_df.duplicated(subset=['image_url', 'gif_url'])])\n",
    "# icon_df = icon_df.drop_duplicates(subset=['image_url', 'gif_url'])\n",
    "# print(f\"{icon_df.shape[0]} rows after dropping duplicates\")\n",
    "icon_df.to_csv(file_name, index=None)"
   ]
  },
  {
   "cell_type": "code",
   "execution_count": 74,
   "id": "77da40f4-a55c-460e-a1e9-95da877a70e3",
   "metadata": {},
   "outputs": [
    {
     "name": "stderr",
     "output_type": "stream",
     "text": [
      "/home/zwang323/miniconda3/lib/python3.9/site-packages/pandas/core/indexing.py:1732: SettingWithCopyWarning: \n",
      "A value is trying to be set on a copy of a slice from a DataFrame\n",
      "\n",
      "See the caveats in the documentation: https://pandas.pydata.org/pandas-docs/stable/user_guide/indexing.html#returning-a-view-versus-a-copy\n",
      "  self._setitem_single_block(indexer, value, name)\n"
     ]
    }
   ],
   "source": [
    "file_name = \"icon_data.csv\"\n",
    "icon_df_dup = pd.read_csv(file_name)\n",
    "icon_df_dup['name'].iloc[1548] = \"Receipt\"\n",
    "icon_df_dup.to_csv(file_name, index=None)"
   ]
  },
  {
   "cell_type": "markdown",
   "id": "5587263a-5fd4-4603-ae7b-fdc359265b43",
   "metadata": {
    "tags": []
   },
   "source": [
    "## Image"
   ]
  },
  {
   "cell_type": "code",
   "execution_count": 9,
   "id": "8ca7e74d-dcd7-4445-83fc-a38c7ff48c23",
   "metadata": {},
   "outputs": [],
   "source": [
    "def get_file(url, filename):\n",
    "    u = urllib.request.urlopen(url)\n",
    "    block_sz = 8192\n",
    "    with open(filename, 'wb') as f:\n",
    "        while True:\n",
    "            buffer = u.read(block_sz)\n",
    "            if not buffer:\n",
    "                break\n",
    "            f.write(buffer)\n",
    "    # print(f\"Sucessfully downloaded {filename}\")"
   ]
  },
  {
   "cell_type": "code",
   "execution_count": 81,
   "id": "48059861-cdbe-4d6a-ad32-61d0a0b57c3f",
   "metadata": {},
   "outputs": [],
   "source": [
    "file_name  = \"icon_data.csv\"\n",
    "icon_df = pd.read_csv(file_name)\n",
    "icon_df = icon_df.drop_duplicates(subset=['image_url', 'gif_url'])"
   ]
  },
  {
   "cell_type": "code",
   "execution_count": 108,
   "id": "47b91cc8-2e81-4601-b841-fe361a1021f9",
   "metadata": {
    "tags": []
   },
   "outputs": [
    {
     "data": {
      "application/vnd.jupyter.widget-view+json": {
       "model_id": "454855a6153542488f590cce1c60334b",
       "version_major": 2,
       "version_minor": 0
      },
      "text/plain": [
       "  0%|          | 0/1416 [00:00<?, ?it/s]"
      ]
     },
     "metadata": {},
     "output_type": "display_data"
    },
    {
     "name": "stdout",
     "output_type": "stream",
     "text": [
      "Unexpected HTTP Error 404: Not Found, <class 'urllib.error.HTTPError'>, url https://icons8.com//vue-static/landings/animated-icons-new/icons/color/doughnut-chart/doughnut-chart.svg, file doughnut-chart_0.svg\n"
     ]
    }
   ],
   "source": [
    "# svg\n",
    "data_folder = 'icon_svg'\n",
    "name2img_id = {}\n",
    "svg_names = []\n",
    "url2filename = {}\n",
    "for img_url in tqdm(icon_df['image_url']):\n",
    "    # deal with same filename\n",
    "    basename = os.path.basename(img_url)\n",
    "    img_id = 0\n",
    "    if basename in name2img_id:\n",
    "        img_id = name2img_id[basename]\n",
    "        name2img_id[basename] += 1\n",
    "    else:\n",
    "        name2img_id[basename] = 1\n",
    "    \n",
    "    prefix, suffix = os.path.splitext(basename)\n",
    "    basename = f\"{prefix}_{img_id}{suffix}\"\n",
    "    url2filename[img_url] = basename\n",
    "    target_path = os.path.join(data_folder, basename)\n",
    "    \n",
    "    if os.path.exists(target_path):\n",
    "        svg_names.append(basename)\n",
    "        continue\n",
    "    try:\n",
    "        get_file(img_url, target_path)\n",
    "        svg_names.append(basename)\n",
    "    except BaseException as err:\n",
    "        svg_names.append(\"-\")\n",
    "        print(f\"Unexpected {err}, {type(err)}, url {img_url}, file {basename}\")\n",
    "    time.sleep(0.1)"
   ]
  },
  {
   "cell_type": "code",
   "execution_count": 116,
   "id": "692c321e-4e0b-41cf-bae2-0044c221ad0a",
   "metadata": {},
   "outputs": [
    {
     "data": {
      "text/plain": [
       "'-'"
      ]
     },
     "execution_count": 116,
     "metadata": {},
     "output_type": "execute_result"
    }
   ],
   "source": [
    "svg_names.index(\"-\")\n",
    "svg_names[230]"
   ]
  },
  {
   "cell_type": "code",
   "execution_count": 117,
   "id": "d79d50e4-9341-43c8-b83d-beac4917b4a9",
   "metadata": {
    "tags": []
   },
   "outputs": [],
   "source": [
    "# gif to svg by AnyConv.com\n",
    "svg_names[230] = \"doughnut-chart_0.svg\"\n",
    "icon_df[\"image_file\"] = svg_names"
   ]
  },
  {
   "cell_type": "code",
   "execution_count": 25,
   "id": "ea91cf0e-2a7c-40f9-9dc7-809acb671489",
   "metadata": {},
   "outputs": [
    {
     "data": {
      "application/vnd.jupyter.widget-view+json": {
       "model_id": "c38feeb8d502432bb6f1c8a5769eed46",
       "version_major": 2,
       "version_minor": 0
      },
      "text/plain": [
       "  0%|          | 0/1416 [00:00<?, ?it/s]"
      ]
     },
     "metadata": {},
     "output_type": "display_data"
    }
   ],
   "source": [
    "# gif\n",
    "data_folder = 'icon_gif'\n",
    "name2img_id = {}\n",
    "filenames = []\n",
    "url2filename = {}\n",
    "for img_url in tqdm(icon_df['gif_url']):\n",
    "    # deal with same filename\n",
    "    basename = os.path.basename(img_url)\n",
    "    img_id = 0\n",
    "    if basename in name2img_id:\n",
    "        img_id = name2img_id[basename]\n",
    "        name2img_id[basename] += 1\n",
    "    else:\n",
    "        name2img_id[basename] = 1\n",
    "    \n",
    "    prefix, suffix = os.path.splitext(basename)\n",
    "    basename = f\"{prefix}_{img_id}{suffix}\"\n",
    "    url2filename[img_url] = basename\n",
    "    target_path = os.path.join(data_folder, basename)\n",
    "    \n",
    "    if os.path.exists(target_path):\n",
    "        filenames.append(basename)\n",
    "        continue\n",
    "    try:\n",
    "        get_file(img_url, target_path)\n",
    "        filenames.append(basename)\n",
    "    except BaseException as err:\n",
    "        filenames.append(\"-\")\n",
    "        print(f\"Unexpected {err}, {type(err)}, url {img_url}, file {basename}\")\n",
    "    time.sleep(0.1)"
   ]
  },
  {
   "cell_type": "code",
   "execution_count": 87,
   "id": "64e6e4c2-9d75-415d-8277-cdfb7f7ba761",
   "metadata": {},
   "outputs": [],
   "source": [
    "icon_df[\"gif_file\"] = filenames"
   ]
  },
  {
   "cell_type": "code",
   "execution_count": 82,
   "id": "993f3794-3a2b-4deb-b7fe-164acaba7738",
   "metadata": {
    "tags": []
   },
   "outputs": [
    {
     "data": {
      "application/vnd.jupyter.widget-view+json": {
       "model_id": "c9f155e8e6dc447fae2943a265458812",
       "version_major": 2,
       "version_minor": 0
      },
      "text/plain": [
       "0it [00:00, ?it/s]"
      ]
     },
     "metadata": {},
     "output_type": "display_data"
    },
    {
     "data": {
      "application/vnd.jupyter.widget-view+json": {
       "model_id": "111111025dc1429bb9ce616e993fe3d7",
       "version_major": 2,
       "version_minor": 0
      },
      "text/plain": [
       "  0%|          | 0/1416 [00:00<?, ?it/s]"
      ]
     },
     "metadata": {},
     "output_type": "display_data"
    }
   ],
   "source": [
    "# merge groups\n",
    "file_name  = \"icon_data.csv\"\n",
    "icon_df_dup = pd.read_csv(file_name)\n",
    "name2group = {}\n",
    "for _, row in tqdm(icon_df_dup.iterrows()):\n",
    "    name = row['name']\n",
    "    group = row['group']\n",
    "    name = name.lower()\n",
    "    if name in name2group:\n",
    "        name2group[name] += f\"|{group}\"\n",
    "    else:\n",
    "        name2group[name] = group\n",
    "        \n",
    "\n",
    "groups = []\n",
    "for name in tqdm(icon_df['name']):\n",
    "    name = name.lower()\n",
    "    groups.append(name2group[name])"
   ]
  },
  {
   "cell_type": "code",
   "execution_count": 90,
   "id": "57cef7c0-2bdc-4c0c-b90f-92615103e399",
   "metadata": {},
   "outputs": [],
   "source": [
    "icon_df['group'] = groups\n",
    "icon_df = icon_df.drop(columns=['id', 'id_in_group'])"
   ]
  },
  {
   "cell_type": "code",
   "execution_count": 118,
   "id": "67cdf43f-dc1e-42ff-9b5e-05e65b96b733",
   "metadata": {},
   "outputs": [],
   "source": [
    "icon_df.to_csv(\"icon_data_unique.csv\", index=None)"
   ]
  },
  {
   "cell_type": "code",
   "execution_count": null,
   "id": "96f9f582-2d02-4398-ab17-12aa22104c8b",
   "metadata": {},
   "outputs": [],
   "source": []
  }
 ],
 "metadata": {
  "kernelspec": {
   "display_name": "conda-base",
   "language": "python",
   "name": "conda-base"
  },
  "language_info": {
   "codemirror_mode": {
    "name": "ipython",
    "version": 3
   },
   "file_extension": ".py",
   "mimetype": "text/x-python",
   "name": "python",
   "nbconvert_exporter": "python",
   "pygments_lexer": "ipython3",
   "version": "3.9.5"
  }
 },
 "nbformat": 4,
 "nbformat_minor": 5
}
